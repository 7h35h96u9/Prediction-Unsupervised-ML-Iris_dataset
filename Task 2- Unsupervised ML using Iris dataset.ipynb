{
 "cells": [
  {
   "cell_type": "markdown",
   "id": "6364d550",
   "metadata": {},
   "source": [
    "## This program utilizes the K-means clustering algorithm to analyze the Iris dataset and determine the optimum number of clusters. Here's a summary of the explanation:"
   ]
  },
  {
   "cell_type": "code",
   "execution_count": 1,
   "id": "9922030c",
   "metadata": {},
   "outputs": [],
   "source": [
    "import warnings\n",
    "# Ignore all warnings\n",
    "warnings.filterwarnings(\"ignore\")"
   ]
  },
  {
   "cell_type": "code",
   "execution_count": 2,
   "id": "86ea32a5",
   "metadata": {},
   "outputs": [],
   "source": [
    "import os\n",
    "import pandas as pd\n",
    "import numpy as np\n",
    "import matplotlib.pyplot as plt"
   ]
  },
  {
   "cell_type": "code",
   "execution_count": 3,
   "id": "78cbb8f2",
   "metadata": {},
   "outputs": [],
   "source": [
    "from sklearn.cluster import KMeans\n",
    "from sklearn.datasets import load_iris"
   ]
  },
  {
   "cell_type": "markdown",
   "id": "91270424",
   "metadata": {},
   "source": [
    "## The program first loads the Iris dataset using the load_iris() function from scikit-learn and creates a Pandas DataFrame to store the data."
   ]
  },
  {
   "cell_type": "code",
   "execution_count": 4,
   "id": "d008893b",
   "metadata": {},
   "outputs": [
    {
     "data": {
      "text/html": [
       "<div>\n",
       "<style scoped>\n",
       "    .dataframe tbody tr th:only-of-type {\n",
       "        vertical-align: middle;\n",
       "    }\n",
       "\n",
       "    .dataframe tbody tr th {\n",
       "        vertical-align: top;\n",
       "    }\n",
       "\n",
       "    .dataframe thead th {\n",
       "        text-align: right;\n",
       "    }\n",
       "</style>\n",
       "<table border=\"1\" class=\"dataframe\">\n",
       "  <thead>\n",
       "    <tr style=\"text-align: right;\">\n",
       "      <th></th>\n",
       "      <th>sepal length (cm)</th>\n",
       "      <th>sepal width (cm)</th>\n",
       "      <th>petal length (cm)</th>\n",
       "      <th>petal width (cm)</th>\n",
       "    </tr>\n",
       "  </thead>\n",
       "  <tbody>\n",
       "    <tr>\n",
       "      <th>0</th>\n",
       "      <td>5.1</td>\n",
       "      <td>3.5</td>\n",
       "      <td>1.4</td>\n",
       "      <td>0.2</td>\n",
       "    </tr>\n",
       "    <tr>\n",
       "      <th>1</th>\n",
       "      <td>4.9</td>\n",
       "      <td>3.0</td>\n",
       "      <td>1.4</td>\n",
       "      <td>0.2</td>\n",
       "    </tr>\n",
       "    <tr>\n",
       "      <th>2</th>\n",
       "      <td>4.7</td>\n",
       "      <td>3.2</td>\n",
       "      <td>1.3</td>\n",
       "      <td>0.2</td>\n",
       "    </tr>\n",
       "    <tr>\n",
       "      <th>3</th>\n",
       "      <td>4.6</td>\n",
       "      <td>3.1</td>\n",
       "      <td>1.5</td>\n",
       "      <td>0.2</td>\n",
       "    </tr>\n",
       "    <tr>\n",
       "      <th>4</th>\n",
       "      <td>5.0</td>\n",
       "      <td>3.6</td>\n",
       "      <td>1.4</td>\n",
       "      <td>0.2</td>\n",
       "    </tr>\n",
       "  </tbody>\n",
       "</table>\n",
       "</div>"
      ],
      "text/plain": [
       "   sepal length (cm)  sepal width (cm)  petal length (cm)  petal width (cm)\n",
       "0                5.1               3.5                1.4               0.2\n",
       "1                4.9               3.0                1.4               0.2\n",
       "2                4.7               3.2                1.3               0.2\n",
       "3                4.6               3.1                1.5               0.2\n",
       "4                5.0               3.6                1.4               0.2"
      ]
     },
     "execution_count": 4,
     "metadata": {},
     "output_type": "execute_result"
    }
   ],
   "source": [
    "#Load iris dataset\n",
    "iris=load_iris()\n",
    "iris_df=pd.DataFrame(data=iris.data,columns=iris.feature_names)\n",
    "iris_df.head(5)"
   ]
  },
  {
   "cell_type": "markdown",
   "id": "474f313f",
   "metadata": {},
   "source": [
    "### The line x = iris_df.iloc[:, [0, 1, 2, 3]].values extracts the values from the Iris DataFrame for the columns at indices 0, 1, 2, and 3. It creates a NumPy array x containing these values, which can be used for further analysis or as input for machine learning algorithms."
   ]
  },
  {
   "cell_type": "code",
   "execution_count": 5,
   "id": "028f17df",
   "metadata": {},
   "outputs": [],
   "source": [
    "x = iris_df.iloc[:, [0, 1, 2, 3]].values"
   ]
  },
  {
   "cell_type": "markdown",
   "id": "c1bae5ba",
   "metadata": {},
   "source": [
    "## The program then performs K-means clustering for different numbers of clusters, ranging from 1 to 10, and calculates the inertia (within-cluster sum of squares) for each clustering result. The inertia is a measure of how well the data points within each cluster are grouped together."
   ]
  },
  {
   "cell_type": "code",
   "execution_count": 6,
   "id": "4364dac6",
   "metadata": {},
   "outputs": [],
   "source": [
    "# Perform K-means clustering for different numbers of clusters\n",
    "inertia = []\n",
    "for k in range(1, 11):\n",
    "    kmeans = KMeans(n_clusters = k, init = 'k-means++', \n",
    "                    max_iter = 300, n_init = 10, random_state = 0)\n",
    "    kmeans.fit(x)\n",
    "    inertia.append(kmeans.inertia_)\n"
   ]
  },
  {
   "cell_type": "markdown",
   "id": "1cb3b907",
   "metadata": {},
   "source": [
    "## An \"elbow curve\" is plotted using Matplotlib to visualize the relationship between the number of clusters and the inertia. The elbow point on the curve represents a good trade-off between the compactness of clusters and the number of clusters, helping us determine the optimal number of clusters."
   ]
  },
  {
   "cell_type": "code",
   "execution_count": 7,
   "id": "23c3fcaf",
   "metadata": {},
   "outputs": [
    {
     "data": {
      "image/png": "[encoded data removed]",
      "text/plain": [
       "<Figure size 640x480 with 1 Axes>"
      ]
     },
     "metadata": {},
     "output_type": "display_data"
    }
   ],
   "source": [
    "# Plot the elbow curve\n",
    "plt.plot(range(1, 11), inertia)\n",
    "plt.xlabel('Number of Clusters')\n",
    "plt.ylabel('Inertia')\n",
    "plt.title('Elbow Curve')\n",
    "plt.grid(True)\n",
    "plt.show()"
   ]
  },
  {
   "cell_type": "markdown",
   "id": "6dd3ad34",
   "metadata": {},
   "source": [
    "## Once the optimal number of clusters is determined, the program performs K-means clustering again using the optimal number of clusters."
   ]
  },
  {
   "cell_type": "code",
   "execution_count": 8,
   "id": "6bfb9610",
   "metadata": {},
   "outputs": [],
   "source": [
    "# Perform K-means clustering with the optimal number of clusters\n",
    "optimal_clusters = 3  # Set the optimal number of clusters based on the elbow curve\n",
    "kmeans = KMeans(n_clusters=optimal_clusters, init = 'k-means++',\n",
    "                max_iter = 300, n_init = 10, random_state = 0)\n",
    "y_kmeans=kmeans.fit_predict(x)"
   ]
  },
  {
   "cell_type": "markdown",
   "id": "22e83c03",
   "metadata": {},
   "source": [
    "## Finally, the program plots the clusters on a scatter plot, with the x-axis representing the sepal length and the y-axis representing the sepal width. Each data point is colored based on its assigned cluster label, and grid lines are added to the plot for better visualization."
   ]
  },
  {
   "cell_type": "code",
   "execution_count": 9,
   "id": "25c43db4",
   "metadata": {},
   "outputs": [
    {
     "data": {
      "text/plain": [
       "<matplotlib.legend.Legend at 0x25300053010>"
      ]
     },
     "execution_count": 9,
     "metadata": {},
     "output_type": "execute_result"
    },
    {
     "data": {
      "image/png": "[encoded data removed]",
      "text/plain": [
       "<Figure size 640x480 with 1 Axes>"
      ]
     },
     "metadata": {},
     "output_type": "display_data"
    }
   ],
   "source": [
    "# Visualising the clusters - On the first two columns\n",
    "plt.scatter(x[y_kmeans == 0, 0], x[y_kmeans == 0, 1], \n",
    "            s = 25, c = 'red', label = 'Iris-setosa')\n",
    "plt.scatter(x[y_kmeans == 1, 0], x[y_kmeans == 1, 1], \n",
    "            s = 25, c = 'blue', label = 'Iris-versicolour')\n",
    "plt.scatter(x[y_kmeans == 2, 0], x[y_kmeans == 2, 1],\n",
    "            s = 25, c = 'green', label = 'Iris-virginica')\n",
    "\n",
    "# Plotting the centroids of the clusters\n",
    "plt.scatter(kmeans.cluster_centers_[:, 0], kmeans.cluster_centers_[:,1], \n",
    "            s = 50, c = 'yellow', label = 'Centroids')\n",
    "plt.grid(True)\n",
    "plt.legend()"
   ]
  },
  {
   "cell_type": "markdown",
   "id": "99d3ca00",
   "metadata": {},
   "source": [
    "## Unsupervised ML is valuable in applications like"
   ]
  },
  {
   "cell_type": "markdown",
   "id": "4c8b149b",
   "metadata": {},
   "source": [
    "### 1)exploratory data analysis"
   ]
  },
  {
   "cell_type": "markdown",
   "id": "cfafa811",
   "metadata": {},
   "source": [
    "### 2)discovering hidden patterns"
   ]
  },
  {
   "cell_type": "markdown",
   "id": "b35e7ccb",
   "metadata": {},
   "source": [
    "### 3)clustering"
   ]
  },
  {
   "cell_type": "markdown",
   "id": "1e9a5039",
   "metadata": {},
   "source": [
    "### 4)anomaly detection"
   ]
  },
  {
   "cell_type": "markdown",
   "id": "1d0ac549",
   "metadata": {},
   "source": [
    "### 5)dimensionality reduction"
   ]
  },
  {
   "cell_type": "markdown",
   "id": "9e059716",
   "metadata": {},
   "source": [
    "## It plays a crucial role in understanding and extracting insights from unlabeled data in diverse domains."
   ]
  },
  {
   "cell_type": "markdown",
   "id": "f66fd1f8",
   "metadata": {},
   "source": [
    "# Note: Make sure to install the necessary packages like pandas, numpy, matplotlib, and scikit-learn if you haven't already. You can use the pip install command to install them."
   ]
  },
  {
   "cell_type": "code",
   "execution_count": null,
   "id": "ee34cd04",
   "metadata": {},
   "outputs": [],
   "source": []
  }
 ],
 "metadata": {
  "kernelspec": {
   "display_name": "Python 3 (ipykernel)",
   "language": "python",
   "name": "python3"
  },
  "language_info": {
   "codemirror_mode": {
    "name": "ipython",
    "version": 3
   },
   "file_extension": ".py",
   "mimetype": "text/x-python",
   "name": "python",
   "nbconvert_exporter": "python",
   "pygments_lexer": "ipython3",
   "version": "3.10.11"
  }
 },
 "nbformat": 4,
 "nbformat_minor": 5
}
